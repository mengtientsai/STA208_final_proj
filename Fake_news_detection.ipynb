{
  "cells": [
    {
      "cell_type": "markdown",
      "metadata": {
        "id": "view-in-github",
        "colab_type": "text"
      },
      "source": [
        "<a href=\"https://colab.research.google.com/github/mengtientsai/STA208_final_proj/blob/main/Fake_news_detection.ipynb\" target=\"_parent\"><img src=\"https://colab.research.google.com/assets/colab-badge.svg\" alt=\"Open In Colab\"/></a>"
      ]
    },
    {
      "cell_type": "code",
      "execution_count": 1,
      "metadata": {
        "colab": {
          "base_uri": "https://localhost:8080/"
        },
        "id": "yL2BKJOVGUhE",
        "outputId": "357fbcd4-b9c3-4125-a67b-afb3905a574f"
      },
      "outputs": [
        {
          "output_type": "stream",
          "name": "stdout",
          "text": [
            "Mounted at /content/drive\n"
          ]
        }
      ],
      "source": [
        "from google.colab import drive\n",
        "drive.mount(\"/content/drive\")"
      ]
    },
    {
      "cell_type": "code",
      "execution_count": null,
      "metadata": {
        "colab": {
          "base_uri": "https://localhost:8080/"
        },
        "id": "3n_t5Qr_8cFm",
        "outputId": "994e4278-b190-4106-d089-83ed6bd4f501"
      },
      "outputs": [
        {
          "name": "stdout",
          "output_type": "stream",
          "text": [
            "[nltk_data] Downloading package punkt to /root/nltk_data...\n",
            "[nltk_data]   Unzipping tokenizers/punkt.zip.\n",
            "[nltk_data] Downloading package wordnet to /root/nltk_data...\n",
            "[nltk_data]   Unzipping corpora/wordnet.zip.\n",
            "[nltk_data] Downloading package stopwords to /root/nltk_data...\n",
            "[nltk_data]   Unzipping corpora/stopwords.zip.\n"
          ]
        }
      ],
      "source": [
        "import numpy as np\n",
        "import pandas as pd\n",
        "import nltk\n",
        "nltk.download(\"punkt\")\n",
        "nltk.download(\"wordnet\")\n",
        "nltk.download(\"stopwords\")\n",
        "import re\n",
        "from nltk.tokenize import word_tokenize\n",
        "from nltk.stem import WordNetLemmatizer\n",
        "from nltk.corpus import stopwords  "
      ]
    },
    {
      "cell_type": "code",
      "execution_count": null,
      "metadata": {
        "id": "cx755Rtg8hVZ"
      },
      "outputs": [],
      "source": [
        "Fake_news = pd.read_csv(\"/content/drive/My Drive/Colab Notebooks/Fake News Detection/Fake.csv\")\n",
        "True_news = pd.read_csv(\"/content/drive/My Drive/Colab Notebooks/Fake News Detection/True.csv\")"
      ]
    },
    {
      "cell_type": "code",
      "execution_count": null,
      "metadata": {
        "id": "-poTC-fxrFXA"
      },
      "outputs": [],
      "source": [
        "# Fake = 1; True = 0\n",
        "Fake_news[\"label\"] = 1\n",
        "True_news[\"label\"] = 0"
      ]
    },
    {
      "cell_type": "code",
      "execution_count": null,
      "metadata": {
        "id": "CIbqJBWV9C4l"
      },
      "outputs": [],
      "source": [
        "News = Fake_news.copy()\n",
        "News = News.append(True_news)\n",
        "News = News[[\"title\",\"label\"]]"
      ]
    },
    {
      "cell_type": "code",
      "execution_count": null,
      "metadata": {
        "id": "DDFk4izkSO8h"
      },
      "outputs": [],
      "source": [
        "# clean text\n",
        "def text_cleaning(text):\n",
        "  text = re.sub(r\"\\s+\",\" \", text) # remove extra spaces\n",
        "  text = re.sub(r\"[^a-zA-Z]\",\" \", text) # remove non-alphabets with spaces\n",
        "  text = text.lower() # lowercase\n",
        "  words = nltk.word_tokenize(text) # break into words\n",
        "  newtext = []\n",
        "  lemmatizer = WordNetLemmatizer()\n",
        "  for word in words:\n",
        "    word = lemmatizer.lemmatize(word) # group together the different inflected forms of a word\n",
        "    if word not in set(stopwords.words(\"english\")) and len(word) > 1: # remove stopwords and single character word\n",
        "      newtext.append(word)\n",
        "  text = \" \".join(newtext)\n",
        "  return text\n",
        "\n",
        "News[\"title\"] = News[\"title\"].apply(text_cleaning)"
      ]
    },
    {
      "cell_type": "code",
      "execution_count": null,
      "metadata": {
        "id": "Z4gSmeUGJKNM"
      },
      "outputs": [],
      "source": [
        "News.to_csv(\"/content/drive/My Drive/Colab Notebooks/Fake News Detection/News.csv\",index=False)"
      ]
    },
    {
      "cell_type": "code",
      "execution_count": null,
      "metadata": {
        "colab": {
          "base_uri": "https://localhost:8080/",
          "height": 573
        },
        "id": "GDKRPUOzvpKZ",
        "outputId": "057e69b1-b567-4b04-daab-b62bf79b9d6d"
      },
      "outputs": [
        {
          "data": {
            "image/png": "[encoded data removed]",
            "text/plain": [
              "<Figure size 432x288 with 1 Axes>"
            ]
          },
          "metadata": {},
          "output_type": "display_data"
        },
        {
          "data": {
            "image/png": "[encoded data removed]",
            "text/plain": [
              "<Figure size 432x288 with 1 Axes>"
            ]
          },
          "metadata": {},
          "output_type": "display_data"
        }
      ],
      "source": [
        "# EDA\n",
        "import seaborn as sns\n",
        "import matplotlib.pyplot as plt\n",
        "\n",
        "# whether the data is balanced\n",
        "ax = sns.countplot(x = News[\"label\"], alpha=1.0);\n",
        "counts = News[\"label\"].value_counts().values\n",
        "#ax.bar_label(container=ax.containers[0], labels = counts)\n",
        "plt.xlabel(\"label\")\n",
        "plt.ylabel(\"counts\")\n",
        "plt.title(\"The distribution of counts for fake news: 1 and true news: 0\")\n",
        "plt.savefig('/content/drive/My Drive/Colab Notebooks/Fake News Detection/Feature importances.png')\n",
        "plt.show()\n",
        "plt.close()\n",
        "\n",
        "# the distribution of title length\n",
        "News[\"title_length\"] = News[\"title\"].apply(lambda x : len(x.strip().split()))\n",
        "sns.histplot(News[News[\"label\"] == 1][\"title_length\"], kde=False, label=\"Fake\", bins=20)\n",
        "sns.histplot(News[News[\"label\"] == 0][\"title_length\"], kde=False, label=\"True\", bins=20)\n",
        "plt.xlabel(\"Title Length\")\n",
        "plt.title(\"The distribution of title length of fake news: 1 and true news: 0\")\n",
        "plt.legend()\n",
        "plt.show()"
      ]
    },
    {
      "cell_type": "code",
      "execution_count": null,
      "metadata": {
        "id": "ATwX29FosC9F"
      },
      "outputs": [],
      "source": [
        "# split data for training and test\n",
        "from sklearn.model_selection import train_test_split\n",
        "X = News[\"title\"].values.tolist()\n",
        "y = News[\"label\"].values\n",
        "# 70%:30%\n",
        "X_train, X_test, y_train, y_test = train_test_split(X, y, test_size = 0.3, random_state = 0, stratify = y)"
      ]
    },
    {
      "cell_type": "code",
      "execution_count": null,
      "metadata": {
        "id": "AfKMaLtLI-jb"
      },
      "outputs": [],
      "source": [
        "# Word Embeddings TF-IDF\n",
        "from sklearn.feature_extraction.text import TfidfVectorizer\n",
        "\n",
        "vectorizer = TfidfVectorizer()\n",
        "X_train_TI = vectorizer.fit_transform(X_train)\n",
        "X_test_TI = vectorizer.transform(X_test)"
      ]
    },
    {
      "cell_type": "code",
      "execution_count": null,
      "metadata": {
        "id": "mBknC82KVGz6"
      },
      "outputs": [],
      "source": [
        "# Chi-square test to select variables that are dependent to the label\n",
        "from sklearn.feature_selection import chi2\n",
        "\n",
        "X_features = vectorizer.get_feature_names_out()\n",
        "\n",
        "_, p = chi2(X_train_TI, y_train)\n",
        "features = pd.DataFrame({\"feature\":X_features, \"score\":p})\n",
        "features = features[features[\"score\"]<0.05]\n",
        "\n",
        "X_features = features[\"feature\"].tolist()"
      ]
    },
    {
      "cell_type": "code",
      "execution_count": null,
      "metadata": {
        "id": "fBYBSgk4X824"
      },
      "outputs": [],
      "source": [
        "# keep selected features\n",
        "vectorizer = TfidfVectorizer(vocabulary = X_features)\n",
        "X_train_TI = vectorizer.fit_transform(X_train)\n",
        "X_test_TI = vectorizer.transform(X_test)"
      ]
    },
    {
      "cell_type": "code",
      "execution_count": null,
      "metadata": {
        "id": "Fb3iqJYqgtUl"
      },
      "outputs": [],
      "source": [
        "# final X train and test\n",
        "import scipy.sparse\n",
        "\n",
        "featureslist = vectorizer.vocabulary_\n",
        "X_train_final = pd.DataFrame.sparse.from_spmatrix(X_train_TI, columns = featureslist)\n",
        "X_test_final = pd.DataFrame.sparse.from_spmatrix(X_test_TI, columns = featureslist)"
      ]
    },
    {
      "cell_type": "code",
      "execution_count": null,
      "metadata": {
        "id": "fAFYBtztmGw6"
      },
      "outputs": [],
      "source": [
        "# save X to csv\n",
        "X_train_final.to_csv(\"/content/drive/My Drive/Colab Notebooks/Fake News Detection/X_train_TI.csv\",index=False)\n",
        "X_test_final.to_csv(\"/content/drive/My Drive/Colab Notebooks/Fake News Detection/X_test_TI.csv\",index=False)"
      ]
    },
    {
      "cell_type": "code",
      "execution_count": null,
      "metadata": {
        "id": "5il3-xt7aWwQ"
      },
      "outputs": [],
      "source": [
        "# save y to csv\n",
        "pd.DataFrame(y_train).to_csv(\"/content/drive/My Drive/Colab Notebooks/Fake News Detection/y_train.csv\",index=False)\n",
        "pd.DataFrame(y_test).to_csv(\"/content/drive/My Drive/Colab Notebooks/Fake News Detection/y_test.csv\",index=False)"
      ]
    },
    {
      "cell_type": "markdown",
      "metadata": {
        "id": "wlEa7dyRfO95"
      },
      "source": [
        "Random Forest"
      ]
    },
    {
      "cell_type": "code",
      "execution_count": 2,
      "metadata": {
        "id": "t-LFmP3_ftta"
      },
      "outputs": [],
      "source": [
        "import numpy as np\n",
        "import pandas as pd\n",
        "from sklearn.ensemble import RandomForestClassifier\n",
        "from sklearn.model_selection import GridSearchCV\n",
        "from sklearn.metrics import classification_report, accuracy_score, confusion_matrix\n",
        "import matplotlib.pyplot as plt\n",
        "import seaborn as sns\n",
        "from time import time"
      ]
    },
    {
      "cell_type": "code",
      "execution_count": 12,
      "metadata": {
        "id": "8LBbomaDfKNg"
      },
      "outputs": [],
      "source": [
        "# read data\n",
        "X_train = pd.read_csv(\"/content/drive/My Drive/Colab Notebooks/Fake News Detection/X_train_TI.csv\")\n",
        "X_test = pd.read_csv(\"/content/drive/My Drive/Colab Notebooks/Fake News Detection/X_test_TI.csv\")\n",
        "y_train = pd.read_csv(\"/content/drive/My Drive/Colab Notebooks/Fake News Detection/y_train.csv\")\n",
        "y_test = pd.read_csv(\"/content/drive/My Drive/Colab Notebooks/Fake News Detection/y_test.csv\")"
      ]
    },
    {
      "cell_type": "code",
      "execution_count": null,
      "metadata": {
        "colab": {
          "base_uri": "https://localhost:8080/"
        },
        "id": "VYJ-jUyl56ks",
        "outputId": "5c66e5ab-7117-4032-d5b7-cf6e415a3295"
      },
      "outputs": [
        {
          "name": "stderr",
          "output_type": "stream",
          "text": [
            "/usr/local/lib/python3.7/dist-packages/joblib/externals/loky/process_executor.py:705: UserWarning: A worker stopped while some jobs were given to the executor. This can be caused by a too short worker timeout or by a memory leak.\n",
            "  \"timeout or by a memory leak.\", UserWarning\n"
          ]
        },
        {
          "name": "stdout",
          "output_type": "stream",
          "text": [
            "0.9214715328807106\n",
            "{'criterion': 'entropy', 'n_estimators': 300}\n"
          ]
        }
      ],
      "source": [
        "# parameter optimization using grid search\n",
        "rf_opt = GridSearchCV(estimator = RandomForestClassifier(random_state = 0, n_jobs = -1),\n",
        "                      param_grid = {\"n_estimators\": [100, 200, 300, 400, 500],\n",
        "                                    \"criterion\": [\"gini\", \"entropy\"]},\n",
        "                      scoring = \"accuracy\", cv = 5, n_jobs = -1, refit=False)\n",
        "\n",
        "rf_opt.fit(X_train, y_train)\n",
        "# report the best result\n",
        "print(rf_opt.best_score_)\n",
        "print(rf_opt.best_params_)"
      ]
    },
    {
      "cell_type": "code",
      "execution_count": null,
      "metadata": {
        "id": "8QZ3E8H3jNiB",
        "colab": {
          "base_uri": "https://localhost:8080/"
        },
        "outputId": "d9610f3b-78bc-47ab-aa83-d2fb0c57c2b1"
      },
      "outputs": [
        {
          "output_type": "stream",
          "name": "stdout",
          "text": [
            " Training time of Random Forest :163.95865774154663\n",
            " Prediction time of Random Forest :3.438601493835449\n"
          ]
        }
      ],
      "source": [
        "# fit the model with best parameteres\n",
        "t1 = time()\n",
        "rf = RandomForestClassifier(n_estimators = 300, criterion = \"entropy\", n_jobs = -1).fit(X_train, y_train.values.ravel())\n",
        "t2 = time()-t1\n",
        "# predict\n",
        "t3 = time()\n",
        "y_pred_rf = rf.predict(X_test)\n",
        "t4 = time()-t3\n",
        "print(f\" Training time of Random Forest :{t2}\")\n",
        "print(f\" Prediction time of Random Forest :{t4}\")\n",
        "# save it to csv\n",
        "#pd.DataFrame(y_pred_rf).to_csv(\"/content/drive/My Drive/Colab Notebooks/Fake News Detection/y_pred_RF.csv\",index=False)"
      ]
    },
    {
      "cell_type": "code",
      "execution_count": null,
      "metadata": {
        "colab": {
          "base_uri": "https://localhost:8080/",
          "height": 491
        },
        "id": "lDx4IyI-ksy0",
        "outputId": "374e9e4a-1bf2-45c3-e14c-eee4cc72c9f3"
      },
      "outputs": [
        {
          "output_type": "stream",
          "name": "stdout",
          "text": [
            " Accuracy of Random Forest : 92.97999999999999 %\n",
            " Classification Report of Random Forest : \n",
            "               precision    recall  f1-score   support\n",
            "\n",
            "           0       0.92      0.93      0.93      6425\n",
            "           1       0.94      0.93      0.93      7045\n",
            "\n",
            "    accuracy                           0.93     13470\n",
            "   macro avg       0.93      0.93      0.93     13470\n",
            "weighted avg       0.93      0.93      0.93     13470\n",
            "\n"
          ]
        },
        {
          "output_type": "display_data",
          "data": {
            "text/plain": [
              "<Figure size 432x288 with 2 Axes>"
            ],
            "image/png": "[encoded data removed]"
          },
          "metadata": {
            "needs_background": "light"
          }
        }
      ],
      "source": [
        "# Evaluate the model\n",
        "print(f\" Accuracy of Random Forest : {np.round(accuracy_score(y_test, y_pred_rf), 4) * 100} %\")\n",
        "print(f\" Classification Report of Random Forest : \\n {classification_report(y_test, y_pred_rf)}\")\n",
        "# Plot the confusion matrix\n",
        "sns.heatmap(confusion_matrix(y_test, y_pred_rf), annot=True, fmt='d', cmap='Blues')\n",
        "plt.title('Confusion Matrix of Random Forest')\n",
        "plt.ylabel('True Label')\n",
        "plt.xlabel('Predicted Label')\n",
        "# Save the plot\n",
        "plt.savefig('/content/drive/My Drive/Colab Notebooks/Fake News Detection/Confusion Matrix of Random Forest.png')\n",
        "plt.show()"
      ]
    },
    {
      "cell_type": "code",
      "source": [
        "from sklearn.metrics import roc_curve, precision_recall_curve\n",
        "# get the probabilities for each class\n",
        "y_prob_RF = rf.predict_proba(X_test)\n",
        "# get fpr and tpr\n",
        "fpr0_RF, tpr0_RF, _ = roc_curve(y_test, y_prob_RF[:,0])\n",
        "fpr1_RF, tpr1_RF, _ = roc_curve(y_test, y_prob_RF[:,1])\n",
        "# get precision and recall\n",
        "precision0_RF, recall0_RF, _ = precision_recall_curve(y_test, y_prob_RF[:,0])\n",
        "precision1_RF, recall1_RF, _ = precision_recall_curve(y_test, y_prob_RF[:,1])"
      ],
      "metadata": {
        "id": "FsMuPy6nkI2e"
      },
      "execution_count": null,
      "outputs": []
    },
    {
      "cell_type": "markdown",
      "source": [
        "Since we want to detection fake news which is label 1, it is enough to plot ROC and PR curves for Fake label."
      ],
      "metadata": {
        "id": "foyhifTSmf5v"
      }
    },
    {
      "cell_type": "code",
      "source": [
        "plt.plot(fpr1_RF, tpr1_RF)\n",
        "plt.xlabel('FPR')\n",
        "plt.ylabel('TPR')\n",
        "plt.title(\"ROC curves for Random Forest\")\n",
        "plt.legend(loc=\"lower right\")\n",
        "plt.show()\n",
        "plt.close()"
      ],
      "metadata": {
        "colab": {
          "base_uri": "https://localhost:8080/",
          "height": 313
        },
        "id": "6wAV34Z9npWB",
        "outputId": "e11a8cf0-6f67-417f-84ca-53da85a95108"
      },
      "execution_count": null,
      "outputs": [
        {
          "output_type": "stream",
          "name": "stderr",
          "text": [
            "No handles with labels found to put in legend.\n"
          ]
        },
        {
          "output_type": "display_data",
          "data": {
            "text/plain": [
              "<Figure size 432x288 with 1 Axes>"
            ],
            "image/png": "[encoded data removed]"
          },
          "metadata": {
            "needs_background": "light"
          }
        }
      ]
    },
    {
      "cell_type": "code",
      "source": [
        "# save data to csv\n",
        "ROC_RF = pd.DataFrame({'fpr_RF': fpr1_RF, 'tpr_RF':tpr1_RF})\n",
        "ROC_RF.to_csv(\"/content/drive/My Drive/Colab Notebooks/Fake News Detection/ROC_RF.csv\",index=False)\n",
        "PR_RF = pd.DataFrame({'precision_RF':precision1_RF, 'recall_RF':recall1_RF})\n",
        "PR_RF.to_csv(\"/content/drive/My Drive/Colab Notebooks/Fake News Detection/PR_RF.csv\",index=False)"
      ],
      "metadata": {
        "id": "bKeuR_lHlxjS"
      },
      "execution_count": null,
      "outputs": []
    },
    {
      "cell_type": "markdown",
      "source": [
        "Plot confusion matrix"
      ],
      "metadata": {
        "id": "XHUzSw5MdtRL"
      }
    },
    {
      "cell_type": "code",
      "source": [
        "# read predict labels\n",
        "y_pred_svm = pd.read_csv(\"/content/drive/My Drive/Colab Notebooks/Fake News Detection/y_pred_svm.csv\")\n",
        "y_pred_LR = pd.read_csv(\"/content/drive/My Drive/Colab Notebooks/Fake News Detection/y_pred_LR.csv\")\n",
        "y_pred_RF = pd.read_csv(\"/content/drive/My Drive/Colab Notebooks/Fake News Detection/y_pred_RF.csv\")"
      ],
      "metadata": {
        "id": "dxX6QCSKcaXE"
      },
      "execution_count": 18,
      "outputs": []
    },
    {
      "cell_type": "code",
      "source": [
        "Label = [\"True\",\"Fake\"]\n",
        "# svm\n",
        "cm_SVM = confusion_matrix(y_test, y_pred_svm)\n",
        "cm_SVM_df = pd.DataFrame(cm_SVM, index = Label, columns = Label)\n",
        "sns.heatmap(cm_SVM_df, annot=True, fmt=\"d\", cmap = \"Blues\")\n",
        "plt.title('Confusion Matrix of SVM')\n",
        "plt.ylabel('True Label')\n",
        "plt.xlabel('Predicted Label')\n",
        "# Save the plot\n",
        "plt.savefig('/content/drive/My Drive/Colab Notebooks/Fake News Detection/Confusion Matrix of SVM.png',bbox_inches = \"tight\")\n",
        "plt.show()\n",
        "Label = [\"True\",\"Fake\"]\n",
        "# logitic regression\n",
        "cm_LR = confusion_matrix(y_test, y_pred_LR)\n",
        "cm_LR_df = pd.DataFrame(cm_LR, index = Label, columns = Label)\n",
        "sns.heatmap(cm_LR_df, annot=True, fmt=\"d\", cmap = \"Blues\")\n",
        "plt.title('Confusion Matrix of Logistic Regression')\n",
        "plt.ylabel('True Label')\n",
        "plt.xlabel('Predicted Label')\n",
        "# Save the plot\n",
        "plt.savefig('/content/drive/My Drive/Colab Notebooks/Fake News Detection/Confusion Matrix of Logistic Regression.png',bbox_inches = \"tight\")\n",
        "plt.show()\n",
        "\n",
        "# random forest\n",
        "cm_RF = confusion_matrix(y_test, y_pred_RF)\n",
        "cm_RF_df = pd.DataFrame(cm_RF, index = Label, columns = Label)\n",
        "sns.heatmap(cm_RF_df, annot=True, fmt=\"d\", cmap = \"Blues\")\n",
        "plt.title('Confusion Matrix of Random Forest')\n",
        "plt.ylabel('True Label')\n",
        "plt.xlabel('Predicted Label')\n",
        "# Save the plot\n",
        "plt.savefig('/content/drive/My Drive/Colab Notebooks/Fake News Detection/Confusion Matrix of Random Forest.png',bbox_inches = \"tight\")\n",
        "plt.show()"
      ],
      "metadata": {
        "colab": {
          "base_uri": "https://localhost:8080/",
          "height": 851
        },
        "id": "r4IS4QNCcTsn",
        "outputId": "1b7ac054-27ff-4549-92a1-f507dc038dd8"
      },
      "execution_count": 19,
      "outputs": [
        {
          "output_type": "display_data",
          "data": {
            "text/plain": [
              "<Figure size 432x288 with 2 Axes>"
            ],
            "image/png": "[encoded data removed]"
          },
          "metadata": {
            "needs_background": "light"
          }
        },
        {
          "output_type": "display_data",
          "data": {
            "text/plain": [
              "<Figure size 432x288 with 2 Axes>"
            ],
            "image/png": "[encoded data removed]"
          },
          "metadata": {
            "needs_background": "light"
          }
        },
        {
          "output_type": "display_data",
          "data": {
            "text/plain": [
              "<Figure size 432x288 with 2 Axes>"
            ],
            "image/png": "[encoded data removed]"
          },
          "metadata": {
            "needs_background": "light"
          }
        }
      ]
    }
  ],
  "metadata": {
    "colab": {
      "collapsed_sections": [],
      "name": "Fake news detection.ipynb",
      "provenance": [],
      "include_colab_link": true
    },
    "kernelspec": {
      "display_name": "Python 3",
      "name": "python3"
    },
    "language_info": {
      "name": "python"
    }
  },
  "nbformat": 4,
  "nbformat_minor": 0
}