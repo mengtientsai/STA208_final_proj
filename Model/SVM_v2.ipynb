{
 "cells": [
  {
   "cell_type": "code",
   "execution_count": 6,
   "id": "b78faf50",
   "metadata": {},
   "outputs": [],
   "source": [
    "from sklearn import svm, metrics\n",
    "import matplotlib.pyplot as plt\n",
    "import pandas as pd\n",
    "import numpy as np\n",
    "import seaborn as sns"
   ]
  },
  {
   "cell_type": "code",
   "execution_count": 7,
   "id": "8c420ee4",
   "metadata": {},
   "outputs": [],
   "source": [
    "# read data\n",
    "X_train = pd.read_csv('Data/X_train.csv')\n",
    "X_test = pd.read_csv('Data/X_test.csv')\n",
    "y_train = pd.read_csv('Data/y_train.csv')\n",
    "y_test = pd.read_csv('Data/y_test.csv')"
   ]
  },
  {
   "cell_type": "markdown",
   "id": "9e0a5737",
   "metadata": {},
   "source": [
    "## SVM"
   ]
  },
  {
   "cell_type": "code",
   "execution_count": 8,
   "id": "bd1c414e",
   "metadata": {},
   "outputs": [],
   "source": [
    "def plot_pr_model(y_test, pred_score):\n",
    "    '''\n",
    "    plot a pr curve\n",
    "    '''\n",
    "    plt.figure(figsize=(4,4))\n",
    "    prec, rec, threshs = metrics.precision_recall_curve(y_test, pred_score)\n",
    "    plt.plot(rec, prec)\n",
    "    plt.xlabel('recall')\n",
    "    plt.ylabel('precision')\n",
    "    plt.grid()\n",
    "    plt.title(\"PR curve\")\n",
    "\n",
    "def plot_roc_model(y_test, pred_score):\n",
    "    '''\n",
    "    plot a roc curve\n",
    "    '''\n",
    "    plt.figure(figsize=(4,4))\n",
    "    fpr, tpr, threshs = metrics.roc_curve(y_test, pred_score)\n",
    "    plt.plot(fpr, tpr)\n",
    "    plt.xlabel('FPR')\n",
    "    plt.ylabel('TPR')\n",
    "    plt.grid()\n",
    "    plt.title(\"ROC\")"
   ]
  },
  {
   "cell_type": "code",
   "execution_count": 9,
   "id": "0ddcc7d4",
   "metadata": {},
   "outputs": [
    {
     "name": "stderr",
     "output_type": "stream",
     "text": [
      "D:\\Python\\lib\\site-packages\\sklearn\\utils\\validation.py:63: DataConversionWarning: A column-vector y was passed when a 1d array was expected. Please change the shape of y to (n_samples, ), for example using ravel().\n",
      "  return f(*args, **kwargs)\n"
     ]
    }
   ],
   "source": [
    "# build svm model and predict\n",
    "clf = svm.SVC(kernel='linear', C=1)\n",
    "clf.fit(X_train, y_train)\n",
    "y_pred = clf.predict(X_test)\n",
    "decision_function = clf.decision_function(X_test)"
   ]
  },
  {
   "cell_type": "code",
   "execution_count": 10,
   "id": "0a4b8597",
   "metadata": {},
   "outputs": [
    {
     "data": {
      "text/plain": [
       "array([-2.23335817, -1.17727275, -1.19954714, ...,  3.87703532,\n",
       "        0.42015916,  1.83570759])"
      ]
     },
     "execution_count": 10,
     "metadata": {},
     "output_type": "execute_result"
    }
   ],
   "source": [
    "decision_function"
   ]
  },
  {
   "cell_type": "code",
   "execution_count": 11,
   "id": "511f8f7e",
   "metadata": {},
   "outputs": [
    {
     "data": {
      "image/png": "[encoded data removed]",
      "text/plain": [
       "<Figure size 288x288 with 1 Axes>"
      ]
     },
     "metadata": {
      "needs_background": "light"
     },
     "output_type": "display_data"
    },
    {
     "data": {
      "image/png": "[encoded data removed]",
      "text/plain": [
       "<Figure size 288x288 with 1 Axes>"
      ]
     },
     "metadata": {
      "needs_background": "light"
     },
     "output_type": "display_data"
    }
   ],
   "source": [
    "# PR and ROC curve \n",
    "y_score = decision_function\n",
    "plot_pr_model(y_test, y_score)\n",
    "plot_roc_model(y_test, y_score)"
   ]
  },
  {
   "cell_type": "code",
   "execution_count": 12,
   "id": "09b02da0",
   "metadata": {},
   "outputs": [
    {
     "name": "stdout",
     "output_type": "stream",
     "text": [
      "              precision    recall  f1-score   support\n",
      "\n",
      "           0       0.93      0.94      0.94      6425\n",
      "           1       0.95      0.93      0.94      7045\n",
      "\n",
      "    accuracy                           0.94     13470\n",
      "   macro avg       0.94      0.94      0.94     13470\n",
      "weighted avg       0.94      0.94      0.94     13470\n",
      "\n"
     ]
    }
   ],
   "source": [
    "from sklearn.metrics import classification_report\n",
    "print(classification_report(y_test, y_pred))"
   ]
  },
  {
   "cell_type": "markdown",
   "id": "9bdd0fcf",
   "metadata": {},
   "source": [
    "## grid search"
   ]
  },
  {
   "cell_type": "markdown",
   "id": "77376c5d",
   "metadata": {},
   "source": [
    "- linearSVC"
   ]
  },
  {
   "cell_type": "code",
   "execution_count": 45,
   "id": "e5d30c29",
   "metadata": {},
   "outputs": [
    {
     "name": "stderr",
     "output_type": "stream",
     "text": [
      "C:\\Users\\tien2\\anaconda3\\envs\\ml_env\\lib\\site-packages\\sklearn\\svm\\_base.py:1206: ConvergenceWarning: Liblinear failed to converge, increase the number of iterations.\n",
      "  warnings.warn(\n",
      "C:\\Users\\tien2\\anaconda3\\envs\\ml_env\\lib\\site-packages\\sklearn\\svm\\_base.py:1206: ConvergenceWarning: Liblinear failed to converge, increase the number of iterations.\n",
      "  warnings.warn(\n",
      "C:\\Users\\tien2\\anaconda3\\envs\\ml_env\\lib\\site-packages\\sklearn\\svm\\_base.py:1206: ConvergenceWarning: Liblinear failed to converge, increase the number of iterations.\n",
      "  warnings.warn(\n",
      "C:\\Users\\tien2\\anaconda3\\envs\\ml_env\\lib\\site-packages\\sklearn\\svm\\_base.py:1206: ConvergenceWarning: Liblinear failed to converge, increase the number of iterations.\n",
      "  warnings.warn(\n",
      "C:\\Users\\tien2\\anaconda3\\envs\\ml_env\\lib\\site-packages\\sklearn\\svm\\_base.py:1206: ConvergenceWarning: Liblinear failed to converge, increase the number of iterations.\n",
      "  warnings.warn(\n",
      "C:\\Users\\tien2\\anaconda3\\envs\\ml_env\\lib\\site-packages\\sklearn\\svm\\_base.py:1206: ConvergenceWarning: Liblinear failed to converge, increase the number of iterations.\n",
      "  warnings.warn(\n",
      "C:\\Users\\tien2\\anaconda3\\envs\\ml_env\\lib\\site-packages\\sklearn\\svm\\_base.py:1206: ConvergenceWarning: Liblinear failed to converge, increase the number of iterations.\n",
      "  warnings.warn(\n",
      "C:\\Users\\tien2\\anaconda3\\envs\\ml_env\\lib\\site-packages\\sklearn\\svm\\_base.py:1206: ConvergenceWarning: Liblinear failed to converge, increase the number of iterations.\n",
      "  warnings.warn(\n",
      "C:\\Users\\tien2\\anaconda3\\envs\\ml_env\\lib\\site-packages\\sklearn\\svm\\_base.py:1206: ConvergenceWarning: Liblinear failed to converge, increase the number of iterations.\n",
      "  warnings.warn(\n",
      "C:\\Users\\tien2\\anaconda3\\envs\\ml_env\\lib\\site-packages\\sklearn\\svm\\_base.py:1206: ConvergenceWarning: Liblinear failed to converge, increase the number of iterations.\n",
      "  warnings.warn(\n"
     ]
    },
    {
     "data": {
      "text/plain": [
       "GridSearchCV(cv=5, estimator=LinearSVC(max_iter=5000),\n",
       "             param_grid={'C': [0.1, 1, 10, 100, 1000]}, scoring='accuracy')"
      ]
     },
     "execution_count": 45,
     "metadata": {},
     "output_type": "execute_result"
    }
   ],
   "source": [
    "from sklearn.model_selection import GridSearchCV\n",
    "parameters = {'C':[0.1, 1, 10, 100, 1000]}\n",
    "l_svc = svm.LinearSVC(max_iter=5000)\n",
    "gl_clf = GridSearchCV(l_svc, parameters, scoring='accuracy', cv=5)\n",
    "gl_clf.fit(X_train, y_train.values.ravel())"
   ]
  },
  {
   "cell_type": "code",
   "execution_count": 46,
   "id": "5bbbd154",
   "metadata": {},
   "outputs": [
    {
     "data": {
      "text/plain": [
       "{'mean_fit_time': array([1.00380616, 0.9981267 , 1.21215081, 4.0837595 , 5.2509903 ]),\n",
       " 'std_fit_time': array([0.0632435 , 0.06052308, 0.05155324, 0.20852224, 0.34144101]),\n",
       " 'mean_score_time': array([0.04738259, 0.04801407, 0.04499478, 0.04944201, 0.04936104]),\n",
       " 'std_score_time': array([0.00780278, 0.00896184, 0.0063482 , 0.00805402, 0.01166578]),\n",
       " 'param_C': masked_array(data=[0.1, 1, 10, 100, 1000],\n",
       "              mask=[False, False, False, False, False],\n",
       "        fill_value='?',\n",
       "             dtype=object),\n",
       " 'params': [{'C': 0.1}, {'C': 1}, {'C': 10}, {'C': 100}, {'C': 1000}],\n",
       " 'split0_test_score': array([0.93636653, 0.93875278, 0.93700286, 0.9366847 , 0.9327076 ]),\n",
       " 'split1_test_score': array([0.9298441 , 0.9366847 , 0.93541203, 0.93541203, 0.93429844]),\n",
       " 'split2_test_score': array([0.94018454, 0.94400255, 0.94416163, 0.94161629, 0.94082087]),\n",
       " 'split3_test_score': array([0.93953858, 0.94208433, 0.94081146, 0.93747017, 0.9363564 ]),\n",
       " 'split4_test_score': array([0.93794749, 0.94240255, 0.93794749, 0.93651551, 0.93524264]),\n",
       " 'mean_test_score': array([0.93677625, 0.94078538, 0.93906709, 0.93753974, 0.93588519]),\n",
       " 'std_test_score': array([0.00371056, 0.00266832, 0.00309423, 0.00214151, 0.00274265]),\n",
       " 'rank_test_score': array([4, 1, 2, 3, 5])}"
      ]
     },
     "execution_count": 46,
     "metadata": {},
     "output_type": "execute_result"
    }
   ],
   "source": [
    "gl_clf.cv_results_"
   ]
  },
  {
   "cell_type": "code",
   "execution_count": 47,
   "id": "10695164",
   "metadata": {},
   "outputs": [
    {
     "data": {
      "text/html": [
       "<div>\n",
       "<style scoped>\n",
       "    .dataframe tbody tr th:only-of-type {\n",
       "        vertical-align: middle;\n",
       "    }\n",
       "\n",
       "    .dataframe tbody tr th {\n",
       "        vertical-align: top;\n",
       "    }\n",
       "\n",
       "    .dataframe thead th {\n",
       "        text-align: right;\n",
       "    }\n",
       "</style>\n",
       "<table border=\"1\" class=\"dataframe\">\n",
       "  <thead>\n",
       "    <tr style=\"text-align: right;\">\n",
       "      <th></th>\n",
       "      <th>mean_fit_time</th>\n",
       "      <th>std_fit_time</th>\n",
       "      <th>mean_score_time</th>\n",
       "      <th>std_score_time</th>\n",
       "      <th>param_C</th>\n",
       "      <th>params</th>\n",
       "      <th>split0_test_score</th>\n",
       "      <th>split1_test_score</th>\n",
       "      <th>split2_test_score</th>\n",
       "      <th>split3_test_score</th>\n",
       "      <th>split4_test_score</th>\n",
       "      <th>mean_test_score</th>\n",
       "      <th>std_test_score</th>\n",
       "      <th>rank_test_score</th>\n",
       "    </tr>\n",
       "  </thead>\n",
       "  <tbody>\n",
       "    <tr>\n",
       "      <th>0</th>\n",
       "      <td>1.003806</td>\n",
       "      <td>0.063244</td>\n",
       "      <td>0.047383</td>\n",
       "      <td>0.007803</td>\n",
       "      <td>0.1</td>\n",
       "      <td>{'C': 0.1}</td>\n",
       "      <td>0.936367</td>\n",
       "      <td>0.929844</td>\n",
       "      <td>0.940185</td>\n",
       "      <td>0.939539</td>\n",
       "      <td>0.937947</td>\n",
       "      <td>0.936776</td>\n",
       "      <td>0.003711</td>\n",
       "      <td>4</td>\n",
       "    </tr>\n",
       "    <tr>\n",
       "      <th>1</th>\n",
       "      <td>0.998127</td>\n",
       "      <td>0.060523</td>\n",
       "      <td>0.048014</td>\n",
       "      <td>0.008962</td>\n",
       "      <td>1</td>\n",
       "      <td>{'C': 1}</td>\n",
       "      <td>0.938753</td>\n",
       "      <td>0.936685</td>\n",
       "      <td>0.944003</td>\n",
       "      <td>0.942084</td>\n",
       "      <td>0.942403</td>\n",
       "      <td>0.940785</td>\n",
       "      <td>0.002668</td>\n",
       "      <td>1</td>\n",
       "    </tr>\n",
       "    <tr>\n",
       "      <th>2</th>\n",
       "      <td>1.212151</td>\n",
       "      <td>0.051553</td>\n",
       "      <td>0.044995</td>\n",
       "      <td>0.006348</td>\n",
       "      <td>10</td>\n",
       "      <td>{'C': 10}</td>\n",
       "      <td>0.937003</td>\n",
       "      <td>0.935412</td>\n",
       "      <td>0.944162</td>\n",
       "      <td>0.940811</td>\n",
       "      <td>0.937947</td>\n",
       "      <td>0.939067</td>\n",
       "      <td>0.003094</td>\n",
       "      <td>2</td>\n",
       "    </tr>\n",
       "    <tr>\n",
       "      <th>3</th>\n",
       "      <td>4.083759</td>\n",
       "      <td>0.208522</td>\n",
       "      <td>0.049442</td>\n",
       "      <td>0.008054</td>\n",
       "      <td>100</td>\n",
       "      <td>{'C': 100}</td>\n",
       "      <td>0.936685</td>\n",
       "      <td>0.935412</td>\n",
       "      <td>0.941616</td>\n",
       "      <td>0.937470</td>\n",
       "      <td>0.936516</td>\n",
       "      <td>0.937540</td>\n",
       "      <td>0.002142</td>\n",
       "      <td>3</td>\n",
       "    </tr>\n",
       "    <tr>\n",
       "      <th>4</th>\n",
       "      <td>5.250990</td>\n",
       "      <td>0.341441</td>\n",
       "      <td>0.049361</td>\n",
       "      <td>0.011666</td>\n",
       "      <td>1000</td>\n",
       "      <td>{'C': 1000}</td>\n",
       "      <td>0.932708</td>\n",
       "      <td>0.934298</td>\n",
       "      <td>0.940821</td>\n",
       "      <td>0.936356</td>\n",
       "      <td>0.935243</td>\n",
       "      <td>0.935885</td>\n",
       "      <td>0.002743</td>\n",
       "      <td>5</td>\n",
       "    </tr>\n",
       "  </tbody>\n",
       "</table>\n",
       "</div>"
      ],
      "text/plain": [
       "   mean_fit_time  std_fit_time  mean_score_time  std_score_time param_C  \\\n",
       "0       1.003806      0.063244         0.047383        0.007803     0.1   \n",
       "1       0.998127      0.060523         0.048014        0.008962       1   \n",
       "2       1.212151      0.051553         0.044995        0.006348      10   \n",
       "3       4.083759      0.208522         0.049442        0.008054     100   \n",
       "4       5.250990      0.341441         0.049361        0.011666    1000   \n",
       "\n",
       "        params  split0_test_score  split1_test_score  split2_test_score  \\\n",
       "0   {'C': 0.1}           0.936367           0.929844           0.940185   \n",
       "1     {'C': 1}           0.938753           0.936685           0.944003   \n",
       "2    {'C': 10}           0.937003           0.935412           0.944162   \n",
       "3   {'C': 100}           0.936685           0.935412           0.941616   \n",
       "4  {'C': 1000}           0.932708           0.934298           0.940821   \n",
       "\n",
       "   split3_test_score  split4_test_score  mean_test_score  std_test_score  \\\n",
       "0           0.939539           0.937947         0.936776        0.003711   \n",
       "1           0.942084           0.942403         0.940785        0.002668   \n",
       "2           0.940811           0.937947         0.939067        0.003094   \n",
       "3           0.937470           0.936516         0.937540        0.002142   \n",
       "4           0.936356           0.935243         0.935885        0.002743   \n",
       "\n",
       "   rank_test_score  \n",
       "0                4  \n",
       "1                1  \n",
       "2                2  \n",
       "3                3  \n",
       "4                5  "
      ]
     },
     "execution_count": 47,
     "metadata": {},
     "output_type": "execute_result"
    }
   ],
   "source": [
    "df = pd.DataFrame(gl_clf.cv_results_)\n",
    "df"
   ]
  },
  {
   "cell_type": "code",
   "execution_count": 48,
   "id": "39db6f26",
   "metadata": {},
   "outputs": [
    {
     "name": "stdout",
     "output_type": "stream",
     "text": [
      "{'C': 1}\n",
      "0.9407853797923483\n"
     ]
    }
   ],
   "source": [
    "print(gl_clf.best_params_)\n",
    "print(gl_clf.best_score_)"
   ]
  },
  {
   "cell_type": "markdown",
   "id": "3aa72b7b",
   "metadata": {},
   "source": [
    " - SVC(), linear & rbf"
   ]
  },
  {
   "cell_type": "code",
   "execution_count": 23,
   "id": "e92426bb",
   "metadata": {
    "collapsed": true
   },
   "outputs": [
    {
     "name": "stderr",
     "output_type": "stream",
     "text": [
      "C:\\Users\\tien2\\anaconda3\\envs\\ml_env\\lib\\site-packages\\sklearn\\utils\\validation.py:993: DataConversionWarning: A column-vector y was passed when a 1d array was expected. Please change the shape of y to (n_samples, ), for example using ravel().\n",
      "  y = column_or_1d(y, warn=True)\n",
      "C:\\Users\\tien2\\anaconda3\\envs\\ml_env\\lib\\site-packages\\sklearn\\utils\\validation.py:993: DataConversionWarning: A column-vector y was passed when a 1d array was expected. Please change the shape of y to (n_samples, ), for example using ravel().\n",
      "  y = column_or_1d(y, warn=True)\n",
      "C:\\Users\\tien2\\anaconda3\\envs\\ml_env\\lib\\site-packages\\sklearn\\utils\\validation.py:993: DataConversionWarning: A column-vector y was passed when a 1d array was expected. Please change the shape of y to (n_samples, ), for example using ravel().\n",
      "  y = column_or_1d(y, warn=True)\n",
      "C:\\Users\\tien2\\anaconda3\\envs\\ml_env\\lib\\site-packages\\sklearn\\utils\\validation.py:993: DataConversionWarning: A column-vector y was passed when a 1d array was expected. Please change the shape of y to (n_samples, ), for example using ravel().\n",
      "  y = column_or_1d(y, warn=True)\n",
      "C:\\Users\\tien2\\anaconda3\\envs\\ml_env\\lib\\site-packages\\sklearn\\utils\\validation.py:993: DataConversionWarning: A column-vector y was passed when a 1d array was expected. Please change the shape of y to (n_samples, ), for example using ravel().\n",
      "  y = column_or_1d(y, warn=True)\n",
      "C:\\Users\\tien2\\anaconda3\\envs\\ml_env\\lib\\site-packages\\sklearn\\utils\\validation.py:993: DataConversionWarning: A column-vector y was passed when a 1d array was expected. Please change the shape of y to (n_samples, ), for example using ravel().\n",
      "  y = column_or_1d(y, warn=True)\n",
      "C:\\Users\\tien2\\anaconda3\\envs\\ml_env\\lib\\site-packages\\sklearn\\utils\\validation.py:993: DataConversionWarning: A column-vector y was passed when a 1d array was expected. Please change the shape of y to (n_samples, ), for example using ravel().\n",
      "  y = column_or_1d(y, warn=True)\n",
      "C:\\Users\\tien2\\anaconda3\\envs\\ml_env\\lib\\site-packages\\sklearn\\utils\\validation.py:993: DataConversionWarning: A column-vector y was passed when a 1d array was expected. Please change the shape of y to (n_samples, ), for example using ravel().\n",
      "  y = column_or_1d(y, warn=True)\n",
      "C:\\Users\\tien2\\anaconda3\\envs\\ml_env\\lib\\site-packages\\sklearn\\utils\\validation.py:993: DataConversionWarning: A column-vector y was passed when a 1d array was expected. Please change the shape of y to (n_samples, ), for example using ravel().\n",
      "  y = column_or_1d(y, warn=True)\n",
      "C:\\Users\\tien2\\anaconda3\\envs\\ml_env\\lib\\site-packages\\sklearn\\utils\\validation.py:993: DataConversionWarning: A column-vector y was passed when a 1d array was expected. Please change the shape of y to (n_samples, ), for example using ravel().\n",
      "  y = column_or_1d(y, warn=True)\n",
      "C:\\Users\\tien2\\anaconda3\\envs\\ml_env\\lib\\site-packages\\sklearn\\utils\\validation.py:993: DataConversionWarning: A column-vector y was passed when a 1d array was expected. Please change the shape of y to (n_samples, ), for example using ravel().\n",
      "  y = column_or_1d(y, warn=True)\n",
      "C:\\Users\\tien2\\anaconda3\\envs\\ml_env\\lib\\site-packages\\sklearn\\utils\\validation.py:993: DataConversionWarning: A column-vector y was passed when a 1d array was expected. Please change the shape of y to (n_samples, ), for example using ravel().\n",
      "  y = column_or_1d(y, warn=True)\n",
      "C:\\Users\\tien2\\anaconda3\\envs\\ml_env\\lib\\site-packages\\sklearn\\utils\\validation.py:993: DataConversionWarning: A column-vector y was passed when a 1d array was expected. Please change the shape of y to (n_samples, ), for example using ravel().\n",
      "  y = column_or_1d(y, warn=True)\n",
      "C:\\Users\\tien2\\anaconda3\\envs\\ml_env\\lib\\site-packages\\sklearn\\utils\\validation.py:993: DataConversionWarning: A column-vector y was passed when a 1d array was expected. Please change the shape of y to (n_samples, ), for example using ravel().\n",
      "  y = column_or_1d(y, warn=True)\n",
      "C:\\Users\\tien2\\anaconda3\\envs\\ml_env\\lib\\site-packages\\sklearn\\utils\\validation.py:993: DataConversionWarning: A column-vector y was passed when a 1d array was expected. Please change the shape of y to (n_samples, ), for example using ravel().\n",
      "  y = column_or_1d(y, warn=True)\n",
      "C:\\Users\\tien2\\anaconda3\\envs\\ml_env\\lib\\site-packages\\sklearn\\utils\\validation.py:993: DataConversionWarning: A column-vector y was passed when a 1d array was expected. Please change the shape of y to (n_samples, ), for example using ravel().\n",
      "  y = column_or_1d(y, warn=True)\n",
      "C:\\Users\\tien2\\anaconda3\\envs\\ml_env\\lib\\site-packages\\sklearn\\utils\\validation.py:993: DataConversionWarning: A column-vector y was passed when a 1d array was expected. Please change the shape of y to (n_samples, ), for example using ravel().\n",
      "  y = column_or_1d(y, warn=True)\n",
      "C:\\Users\\tien2\\anaconda3\\envs\\ml_env\\lib\\site-packages\\sklearn\\utils\\validation.py:993: DataConversionWarning: A column-vector y was passed when a 1d array was expected. Please change the shape of y to (n_samples, ), for example using ravel().\n",
      "  y = column_or_1d(y, warn=True)\n",
      "C:\\Users\\tien2\\anaconda3\\envs\\ml_env\\lib\\site-packages\\sklearn\\utils\\validation.py:993: DataConversionWarning: A column-vector y was passed when a 1d array was expected. Please change the shape of y to (n_samples, ), for example using ravel().\n",
      "  y = column_or_1d(y, warn=True)\n",
      "C:\\Users\\tien2\\anaconda3\\envs\\ml_env\\lib\\site-packages\\sklearn\\utils\\validation.py:993: DataConversionWarning: A column-vector y was passed when a 1d array was expected. Please change the shape of y to (n_samples, ), for example using ravel().\n",
      "  y = column_or_1d(y, warn=True)\n",
      "C:\\Users\\tien2\\anaconda3\\envs\\ml_env\\lib\\site-packages\\sklearn\\utils\\validation.py:993: DataConversionWarning: A column-vector y was passed when a 1d array was expected. Please change the shape of y to (n_samples, ), for example using ravel().\n",
      "  y = column_or_1d(y, warn=True)\n",
      "C:\\Users\\tien2\\anaconda3\\envs\\ml_env\\lib\\site-packages\\sklearn\\utils\\validation.py:993: DataConversionWarning: A column-vector y was passed when a 1d array was expected. Please change the shape of y to (n_samples, ), for example using ravel().\n",
      "  y = column_or_1d(y, warn=True)\n",
      "C:\\Users\\tien2\\anaconda3\\envs\\ml_env\\lib\\site-packages\\sklearn\\utils\\validation.py:993: DataConversionWarning: A column-vector y was passed when a 1d array was expected. Please change the shape of y to (n_samples, ), for example using ravel().\n",
      "  y = column_or_1d(y, warn=True)\n",
      "C:\\Users\\tien2\\anaconda3\\envs\\ml_env\\lib\\site-packages\\sklearn\\utils\\validation.py:993: DataConversionWarning: A column-vector y was passed when a 1d array was expected. Please change the shape of y to (n_samples, ), for example using ravel().\n",
      "  y = column_or_1d(y, warn=True)\n",
      "C:\\Users\\tien2\\anaconda3\\envs\\ml_env\\lib\\site-packages\\sklearn\\utils\\validation.py:993: DataConversionWarning: A column-vector y was passed when a 1d array was expected. Please change the shape of y to (n_samples, ), for example using ravel().\n",
      "  y = column_or_1d(y, warn=True)\n",
      "C:\\Users\\tien2\\anaconda3\\envs\\ml_env\\lib\\site-packages\\sklearn\\utils\\validation.py:993: DataConversionWarning: A column-vector y was passed when a 1d array was expected. Please change the shape of y to (n_samples, ), for example using ravel().\n",
      "  y = column_or_1d(y, warn=True)\n",
      "C:\\Users\\tien2\\anaconda3\\envs\\ml_env\\lib\\site-packages\\sklearn\\utils\\validation.py:993: DataConversionWarning: A column-vector y was passed when a 1d array was expected. Please change the shape of y to (n_samples, ), for example using ravel().\n",
      "  y = column_or_1d(y, warn=True)\n",
      "C:\\Users\\tien2\\anaconda3\\envs\\ml_env\\lib\\site-packages\\sklearn\\utils\\validation.py:993: DataConversionWarning: A column-vector y was passed when a 1d array was expected. Please change the shape of y to (n_samples, ), for example using ravel().\n",
      "  y = column_or_1d(y, warn=True)\n",
      "C:\\Users\\tien2\\anaconda3\\envs\\ml_env\\lib\\site-packages\\sklearn\\utils\\validation.py:993: DataConversionWarning: A column-vector y was passed when a 1d array was expected. Please change the shape of y to (n_samples, ), for example using ravel().\n",
      "  y = column_or_1d(y, warn=True)\n",
      "C:\\Users\\tien2\\anaconda3\\envs\\ml_env\\lib\\site-packages\\sklearn\\utils\\validation.py:993: DataConversionWarning: A column-vector y was passed when a 1d array was expected. Please change the shape of y to (n_samples, ), for example using ravel().\n",
      "  y = column_or_1d(y, warn=True)\n"
     ]
    },
    {
     "name": "stderr",
     "output_type": "stream",
     "text": [
      "C:\\Users\\tien2\\anaconda3\\envs\\ml_env\\lib\\site-packages\\sklearn\\utils\\validation.py:993: DataConversionWarning: A column-vector y was passed when a 1d array was expected. Please change the shape of y to (n_samples, ), for example using ravel().\n",
      "  y = column_or_1d(y, warn=True)\n"
     ]
    },
    {
     "data": {
      "text/plain": [
       "GridSearchCV(estimator=SVC(),\n",
       "             param_grid={'C': [0.1, 1, 10], 'kernel': ('linear', 'rbf')})"
      ]
     },
     "execution_count": 23,
     "metadata": {},
     "output_type": "execute_result"
    }
   ],
   "source": [
    "from sklearn.model_selection import GridSearchCV\n",
    "parameters = {'kernel':('linear', 'rbf'), 'C':[0.1, 1, 10]}\n",
    "svc = svm.SVC()\n",
    "g_clf = GridSearchCV(svc, parameters, scoring='accuracy', cv=5, n_jobs = -1)\n",
    "g_clf.fit(X_train, y_train)"
   ]
  },
  {
   "cell_type": "code",
   "execution_count": 38,
   "id": "c3e3a7c9",
   "metadata": {},
   "outputs": [
    {
     "data": {
      "text/html": [
       "<div>\n",
       "<style scoped>\n",
       "    .dataframe tbody tr th:only-of-type {\n",
       "        vertical-align: middle;\n",
       "    }\n",
       "\n",
       "    .dataframe tbody tr th {\n",
       "        vertical-align: top;\n",
       "    }\n",
       "\n",
       "    .dataframe thead th {\n",
       "        text-align: right;\n",
       "    }\n",
       "</style>\n",
       "<table border=\"1\" class=\"dataframe\">\n",
       "  <thead>\n",
       "    <tr style=\"text-align: right;\">\n",
       "      <th></th>\n",
       "      <th>mean_fit_time</th>\n",
       "      <th>std_fit_time</th>\n",
       "      <th>mean_score_time</th>\n",
       "      <th>std_score_time</th>\n",
       "      <th>param_C</th>\n",
       "      <th>param_kernel</th>\n",
       "      <th>params</th>\n",
       "      <th>split0_test_score</th>\n",
       "      <th>split1_test_score</th>\n",
       "      <th>split2_test_score</th>\n",
       "      <th>split3_test_score</th>\n",
       "      <th>split4_test_score</th>\n",
       "      <th>mean_test_score</th>\n",
       "      <th>std_test_score</th>\n",
       "      <th>rank_test_score</th>\n",
       "    </tr>\n",
       "  </thead>\n",
       "  <tbody>\n",
       "    <tr>\n",
       "      <th>0</th>\n",
       "      <td>555.217393</td>\n",
       "      <td>3.503849</td>\n",
       "      <td>120.992985</td>\n",
       "      <td>1.598643</td>\n",
       "      <td>0.1</td>\n",
       "      <td>linear</td>\n",
       "      <td>{'C': 0.1, 'kernel': 'linear'}</td>\n",
       "      <td>0.928253</td>\n",
       "      <td>0.924753</td>\n",
       "      <td>0.934139</td>\n",
       "      <td>0.932856</td>\n",
       "      <td>0.931265</td>\n",
       "      <td>0.930253</td>\n",
       "      <td>0.003381</td>\n",
       "      <td>5</td>\n",
       "    </tr>\n",
       "    <tr>\n",
       "      <th>1</th>\n",
       "      <td>733.326167</td>\n",
       "      <td>18.533807</td>\n",
       "      <td>263.060141</td>\n",
       "      <td>8.107905</td>\n",
       "      <td>0.1</td>\n",
       "      <td>rbf</td>\n",
       "      <td>{'C': 0.1, 'kernel': 'rbf'}</td>\n",
       "      <td>0.923640</td>\n",
       "      <td>0.921890</td>\n",
       "      <td>0.929844</td>\n",
       "      <td>0.930151</td>\n",
       "      <td>0.929833</td>\n",
       "      <td>0.927072</td>\n",
       "      <td>0.003562</td>\n",
       "      <td>6</td>\n",
       "    </tr>\n",
       "    <tr>\n",
       "      <th>2</th>\n",
       "      <td>315.127759</td>\n",
       "      <td>7.307594</td>\n",
       "      <td>62.067229</td>\n",
       "      <td>1.617525</td>\n",
       "      <td>1</td>\n",
       "      <td>linear</td>\n",
       "      <td>{'C': 1, 'kernel': 'linear'}</td>\n",
       "      <td>0.934298</td>\n",
       "      <td>0.932867</td>\n",
       "      <td>0.937480</td>\n",
       "      <td>0.940016</td>\n",
       "      <td>0.942562</td>\n",
       "      <td>0.937445</td>\n",
       "      <td>0.003568</td>\n",
       "      <td>3</td>\n",
       "    </tr>\n",
       "    <tr>\n",
       "      <th>3</th>\n",
       "      <td>1178.009401</td>\n",
       "      <td>57.189153</td>\n",
       "      <td>173.700234</td>\n",
       "      <td>39.646993</td>\n",
       "      <td>1</td>\n",
       "      <td>rbf</td>\n",
       "      <td>{'C': 1, 'kernel': 'rbf'}</td>\n",
       "      <td>0.943048</td>\n",
       "      <td>0.942094</td>\n",
       "      <td>0.946707</td>\n",
       "      <td>0.948449</td>\n",
       "      <td>0.948290</td>\n",
       "      <td>0.945717</td>\n",
       "      <td>0.002658</td>\n",
       "      <td>2</td>\n",
       "    </tr>\n",
       "    <tr>\n",
       "      <th>4</th>\n",
       "      <td>398.452984</td>\n",
       "      <td>10.180773</td>\n",
       "      <td>44.368942</td>\n",
       "      <td>0.936719</td>\n",
       "      <td>10</td>\n",
       "      <td>linear</td>\n",
       "      <td>{'C': 10, 'kernel': 'linear'}</td>\n",
       "      <td>0.932867</td>\n",
       "      <td>0.932549</td>\n",
       "      <td>0.939707</td>\n",
       "      <td>0.935879</td>\n",
       "      <td>0.938425</td>\n",
       "      <td>0.935885</td>\n",
       "      <td>0.002874</td>\n",
       "      <td>4</td>\n",
       "    </tr>\n",
       "    <tr>\n",
       "      <th>5</th>\n",
       "      <td>2135.734790</td>\n",
       "      <td>45.722686</td>\n",
       "      <td>161.239749</td>\n",
       "      <td>3.592646</td>\n",
       "      <td>10</td>\n",
       "      <td>rbf</td>\n",
       "      <td>{'C': 10, 'kernel': 'rbf'}</td>\n",
       "      <td>0.943684</td>\n",
       "      <td>0.942730</td>\n",
       "      <td>0.949252</td>\n",
       "      <td>0.948130</td>\n",
       "      <td>0.948608</td>\n",
       "      <td>0.946481</td>\n",
       "      <td>0.002714</td>\n",
       "      <td>1</td>\n",
       "    </tr>\n",
       "  </tbody>\n",
       "</table>\n",
       "</div>"
      ],
      "text/plain": [
       "   mean_fit_time  std_fit_time  mean_score_time  std_score_time param_C  \\\n",
       "0     555.217393      3.503849       120.992985        1.598643     0.1   \n",
       "1     733.326167     18.533807       263.060141        8.107905     0.1   \n",
       "2     315.127759      7.307594        62.067229        1.617525       1   \n",
       "3    1178.009401     57.189153       173.700234       39.646993       1   \n",
       "4     398.452984     10.180773        44.368942        0.936719      10   \n",
       "5    2135.734790     45.722686       161.239749        3.592646      10   \n",
       "\n",
       "  param_kernel                          params  split0_test_score  \\\n",
       "0       linear  {'C': 0.1, 'kernel': 'linear'}           0.928253   \n",
       "1          rbf     {'C': 0.1, 'kernel': 'rbf'}           0.923640   \n",
       "2       linear    {'C': 1, 'kernel': 'linear'}           0.934298   \n",
       "3          rbf       {'C': 1, 'kernel': 'rbf'}           0.943048   \n",
       "4       linear   {'C': 10, 'kernel': 'linear'}           0.932867   \n",
       "5          rbf      {'C': 10, 'kernel': 'rbf'}           0.943684   \n",
       "\n",
       "   split1_test_score  split2_test_score  split3_test_score  split4_test_score  \\\n",
       "0           0.924753           0.934139           0.932856           0.931265   \n",
       "1           0.921890           0.929844           0.930151           0.929833   \n",
       "2           0.932867           0.937480           0.940016           0.942562   \n",
       "3           0.942094           0.946707           0.948449           0.948290   \n",
       "4           0.932549           0.939707           0.935879           0.938425   \n",
       "5           0.942730           0.949252           0.948130           0.948608   \n",
       "\n",
       "   mean_test_score  std_test_score  rank_test_score  \n",
       "0         0.930253        0.003381                5  \n",
       "1         0.927072        0.003562                6  \n",
       "2         0.937445        0.003568                3  \n",
       "3         0.945717        0.002658                2  \n",
       "4         0.935885        0.002874                4  \n",
       "5         0.946481        0.002714                1  "
      ]
     },
     "execution_count": 38,
     "metadata": {},
     "output_type": "execute_result"
    }
   ],
   "source": [
    "df = pd.DataFrame(g_clf.cv_results_)\n",
    "df"
   ]
  },
  {
   "cell_type": "code",
   "execution_count": 27,
   "id": "5d1a3b5f",
   "metadata": {},
   "outputs": [
    {
     "name": "stdout",
     "output_type": "stream",
     "text": [
      "{'C': 10, 'kernel': 'rbf'}\n",
      "0.9464809652645787\n"
     ]
    }
   ],
   "source": [
    "print(g_clf.best_params_)\n",
    "print(g_clf.best_score_)"
   ]
  },
  {
   "cell_type": "code",
   "execution_count": null,
   "id": "a5aa4f03",
   "metadata": {},
   "outputs": [],
   "source": []
  },
  {
   "cell_type": "code",
   "execution_count": null,
   "id": "54848f66",
   "metadata": {},
   "outputs": [],
   "source": []
  },
  {
   "cell_type": "code",
   "execution_count": null,
   "id": "79b595b3",
   "metadata": {},
   "outputs": [],
   "source": []
  },
  {
   "cell_type": "code",
   "execution_count": null,
   "id": "17c2a113",
   "metadata": {},
   "outputs": [],
   "source": []
  },
  {
   "cell_type": "markdown",
   "id": "640215f0",
   "metadata": {},
   "source": [
    "## final model"
   ]
  },
  {
   "cell_type": "code",
   "execution_count": 5,
   "id": "abdcdd40",
   "metadata": {},
   "outputs": [],
   "source": [
    "# build svm model and predict\n",
    "clf = svm.SVC(kernel='rbf', C=10)\n",
    "clf.fit(X_train, y_train.values.ravel())\n",
    "y_pred = clf.predict(X_test)\n",
    "y_score = clf.decision_function(X_test)"
   ]
  },
  {
   "cell_type": "code",
   "execution_count": 6,
   "id": "1312def9",
   "metadata": {},
   "outputs": [],
   "source": [
    "y_pred = pd.DataFrame(y_pred)\n",
    "y_pred.to_csv('y_pred_svm.csv',index=False)"
   ]
  },
  {
   "cell_type": "code",
   "execution_count": 9,
   "id": "52f46d51",
   "metadata": {},
   "outputs": [
    {
     "name": "stdout",
     "output_type": "stream",
     "text": [
      " Accuracy of ssvm : 95.06 %\n",
      " Confusion Matrix of svm : \n",
      " [[6090  335]\n",
      " [ 331 6714]]\n",
      " Classification Report of svm : \n",
      "               precision    recall  f1-score   support\n",
      "\n",
      "           0       0.95      0.95      0.95      6425\n",
      "           1       0.95      0.95      0.95      7045\n",
      "\n",
      "    accuracy                           0.95     13470\n",
      "   macro avg       0.95      0.95      0.95     13470\n",
      "weighted avg       0.95      0.95      0.95     13470\n",
      "\n"
     ]
    },
    {
     "data": {
      "image/png": "[encoded data removed]",
      "text/plain": [
       "<Figure size 432x288 with 2 Axes>"
      ]
     },
     "metadata": {
      "needs_background": "light"
     },
     "output_type": "display_data"
    },
    {
     "data": {
      "text/plain": [
       "<Figure size 432x288 with 0 Axes>"
      ]
     },
     "metadata": {},
     "output_type": "display_data"
    }
   ],
   "source": [
    "# Evaluate the model\n",
    "print(f\" Accuracy of ssvm : {round(metrics.accuracy_score(y_test, y_pred) ,4) * 100} %\")\n",
    "print(f\" Confusion Matrix of svm : \\n {metrics.confusion_matrix(y_test, y_pred)}\")\n",
    "print(f\" Classification Report of svm : \\n {metrics.classification_report(y_test, y_pred)}\")\n",
    "# Plot the confusion matrix\n",
    "sns.heatmap(metrics.confusion_matrix(y_test, y_pred), annot=True, fmt='d', cmap='Blues')\n",
    "plt.title('Confusion Matrix of svm')\n",
    "plt.ylabel('True Label')\n",
    "plt.xlabel('Predicted Label')\n",
    "plt.show()\n",
    "# Save the plot\n",
    "plt.savefig('Confusion Matrix of svm.png')"
   ]
  },
  {
   "cell_type": "code",
   "execution_count": 10,
   "id": "1a3737cd",
   "metadata": {},
   "outputs": [],
   "source": [
    "precision_svm, recall_svm, threshs = metrics.precision_recall_curve(y_test, y_score)\n",
    "fpr_svm, tpr_svm, threshs = metrics.roc_curve(y_test, y_score)"
   ]
  },
  {
   "cell_type": "code",
   "execution_count": 11,
   "id": "4ba3d87a",
   "metadata": {},
   "outputs": [],
   "source": [
    "PR_svm = pd.DataFrame({'precision_svm':precision_svm, 'recall_svm':recall_svm})\n",
    "ROC_svm = pd.DataFrame({'fpr_svm':fpr_svm, 'tpr_svm':tpr_svm})\n",
    "PR_svm.to_csv('PR_svm.csv',index=False)\n",
    "ROC_svm.to_csv('ROC_svm.csv',index=False)"
   ]
  },
  {
   "cell_type": "code",
   "execution_count": 13,
   "id": "8e1e3a6a",
   "metadata": {},
   "outputs": [
    {
     "data": {
      "image/png": "[encoded data removed]",
      "text/plain": [
       "<Figure size 288x288 with 1 Axes>"
      ]
     },
     "metadata": {
      "needs_background": "light"
     },
     "output_type": "display_data"
    },
    {
     "data": {
      "image/png": "[encoded data removed]",
      "text/plain": [
       "<Figure size 288x288 with 1 Axes>"
      ]
     },
     "metadata": {
      "needs_background": "light"
     },
     "output_type": "display_data"
    }
   ],
   "source": [
    "plot_pr_model(y_test, y_score)\n",
    "plot_roc_model(y_test, y_score)"
   ]
  },
  {
   "cell_type": "code",
   "execution_count": null,
   "id": "152d8fc1",
   "metadata": {},
   "outputs": [],
   "source": []
  },
  {
   "cell_type": "code",
   "execution_count": null,
   "id": "701361f8",
   "metadata": {},
   "outputs": [],
   "source": []
  },
  {
   "cell_type": "markdown",
   "id": "737f8f51",
   "metadata": {},
   "source": [
    "## 幫跑一下part"
   ]
  },
  {
   "cell_type": "code",
   "execution_count": 13,
   "id": "918d8b3a",
   "metadata": {},
   "outputs": [
    {
     "ename": "NameError",
     "evalue": "name 'gl_clf' is not defined",
     "output_type": "error",
     "traceback": [
      "\u001b[1;31m---------------------------------------------------------------------------\u001b[0m",
      "\u001b[1;31mNameError\u001b[0m                                 Traceback (most recent call last)",
      "\u001b[1;32m~\\AppData\\Local\\Temp/ipykernel_7900/1573385897.py\u001b[0m in \u001b[0;36m<module>\u001b[1;34m\u001b[0m\n\u001b[0;32m      5\u001b[0m \u001b[0mgr_clf\u001b[0m\u001b[1;33m.\u001b[0m\u001b[0mfit\u001b[0m\u001b[1;33m(\u001b[0m\u001b[0mX_train\u001b[0m\u001b[1;33m,\u001b[0m \u001b[0my_train\u001b[0m\u001b[1;33m.\u001b[0m\u001b[0mvalues\u001b[0m\u001b[1;33m.\u001b[0m\u001b[0mravel\u001b[0m\u001b[1;33m(\u001b[0m\u001b[1;33m)\u001b[0m\u001b[1;33m)\u001b[0m\u001b[1;33m\u001b[0m\u001b[1;33m\u001b[0m\u001b[0m\n\u001b[0;32m      6\u001b[0m \u001b[0mdf\u001b[0m \u001b[1;33m=\u001b[0m \u001b[0mpd\u001b[0m\u001b[1;33m.\u001b[0m\u001b[0mDataFrame\u001b[0m\u001b[1;33m(\u001b[0m\u001b[0mgr_clf\u001b[0m\u001b[1;33m.\u001b[0m\u001b[0mcv_results_\u001b[0m\u001b[1;33m)\u001b[0m\u001b[1;33m\u001b[0m\u001b[1;33m\u001b[0m\u001b[0m\n\u001b[1;32m----> 7\u001b[1;33m \u001b[0mprint\u001b[0m\u001b[1;33m(\u001b[0m\u001b[0mgl_clf\u001b[0m\u001b[1;33m.\u001b[0m\u001b[0mbest_params_\u001b[0m\u001b[1;33m)\u001b[0m\u001b[1;33m\u001b[0m\u001b[1;33m\u001b[0m\u001b[0m\n\u001b[0m\u001b[0;32m      8\u001b[0m \u001b[0mprint\u001b[0m\u001b[1;33m(\u001b[0m\u001b[0mgl_clf\u001b[0m\u001b[1;33m.\u001b[0m\u001b[0mbest_score_\u001b[0m\u001b[1;33m)\u001b[0m\u001b[1;33m\u001b[0m\u001b[1;33m\u001b[0m\u001b[0m\n\u001b[0;32m      9\u001b[0m \u001b[0mprint\u001b[0m\u001b[1;33m(\u001b[0m\u001b[0mdf\u001b[0m\u001b[1;33m)\u001b[0m\u001b[1;33m\u001b[0m\u001b[1;33m\u001b[0m\u001b[0m\n",
      "\u001b[1;31mNameError\u001b[0m: name 'gl_clf' is not defined"
     ]
    }
   ],
   "source": [
    "from sklearn.model_selection import GridSearchCV\n",
    "parameters = {'C':[0.1, 1, 10, 100]}\n",
    "svc = svm.SVC(kernel='rbf')\n",
    "gr_clf = GridSearchCV(svc, parameters, scoring='accuracy', cv=5)\n",
    "gr_clf.fit(X_train, y_train.values.ravel())"
   ]
  },
  {
   "cell_type": "code",
   "execution_count": 16,
   "id": "b003fd66",
   "metadata": {},
   "outputs": [
    {
     "name": "stdout",
     "output_type": "stream",
     "text": [
      "   mean_fit_time  std_fit_time  mean_score_time  std_score_time param_C  \\\n",
      "0     360.309816      6.820539       119.681429        1.023612     0.1   \n",
      "1     569.391664     58.110853        79.524198        6.967958       1   \n",
      "2    1074.159868     89.677596        85.655943        5.691337      10   \n",
      "3    1679.480963    797.742522        81.692730        3.218399     100   \n",
      "\n",
      "       params  split0_test_score  split1_test_score  split2_test_score  \\\n",
      "0  {'C': 0.1}           0.923640           0.921890           0.929844   \n",
      "1    {'C': 1}           0.943048           0.942094           0.946707   \n",
      "2   {'C': 10}           0.943684           0.942730           0.949252   \n",
      "3  {'C': 100}           0.943684           0.942730           0.949093   \n",
      "\n",
      "   split3_test_score  split4_test_score  mean_test_score  std_test_score  \\\n",
      "0           0.930151           0.929833         0.927072        0.003562   \n",
      "1           0.948449           0.948290         0.945717        0.002658   \n",
      "2           0.948130           0.948608         0.946481        0.002714   \n",
      "3           0.948130           0.948290         0.946386        0.002633   \n",
      "\n",
      "   rank_test_score  \n",
      "0                4  \n",
      "1                3  \n",
      "2                1  \n",
      "3                2  \n"
     ]
    }
   ],
   "source": [
    "df = pd.DataFrame(gr_clf.cv_results_)\n",
    "print(df)"
   ]
  },
  {
   "cell_type": "code",
   "execution_count": 17,
   "id": "4889dd0a",
   "metadata": {},
   "outputs": [
    {
     "name": "stdout",
     "output_type": "stream",
     "text": [
      " Accuracy of ssvm : 95.06 %\n",
      " Confusion Matrix of svm : \n",
      " [[6090  335]\n",
      " [ 331 6714]]\n",
      " Classification Report of svm : \n",
      "               precision    recall  f1-score   support\n",
      "\n",
      "           0       0.95      0.95      0.95      6425\n",
      "           1       0.95      0.95      0.95      7045\n",
      "\n",
      "    accuracy                           0.95     13470\n",
      "   macro avg       0.95      0.95      0.95     13470\n",
      "weighted avg       0.95      0.95      0.95     13470\n",
      "\n"
     ]
    },
    {
     "data": {
      "image/png": "[encoded data removed]",
      "text/plain": [
       "<Figure size 432x288 with 2 Axes>"
      ]
     },
     "metadata": {
      "needs_background": "light"
     },
     "output_type": "display_data"
    },
    {
     "data": {
      "text/plain": [
       "<Figure size 432x288 with 0 Axes>"
      ]
     },
     "metadata": {},
     "output_type": "display_data"
    }
   ],
   "source": [
    "y_pred = gr_clf.predict(X_test)\n",
    "y_score = gr_clf.decision_function(X_test)\n",
    "# Evaluate the model\n",
    "print(f\" Accuracy of ssvm : {round(metrics.accuracy_score(y_test, y_pred) ,4) * 100} %\")\n",
    "print(f\" Confusion Matrix of svm : \\n {metrics.confusion_matrix(y_test, y_pred)}\")\n",
    "print(f\" Classification Report of svm : \\n {metrics.classification_report(y_test, y_pred)}\")\n",
    "# Plot the confusion matrix\n",
    "sns.heatmap(metrics.confusion_matrix(y_test, y_pred), annot=True, fmt='d', cmap='Blues')\n",
    "plt.title('Confusion Matrix of svm')\n",
    "plt.ylabel('True Label')\n",
    "plt.xlabel('Predicted Label')\n",
    "plt.show()\n",
    "# Save the plot\n",
    "plt.savefig('Confusion Matrix of svm.png')"
   ]
  }
 ],
 "metadata": {
  "kernelspec": {
   "display_name": "Python 3 (ipykernel)",
   "language": "python",
   "name": "python3"
  },
  "language_info": {
   "codemirror_mode": {
    "name": "ipython",
    "version": 3
   },
   "file_extension": ".py",
   "mimetype": "text/x-python",
   "name": "python",
   "nbconvert_exporter": "python",
   "pygments_lexer": "ipython3",
   "version": "3.9.7"
  }
 },
 "nbformat": 4,
 "nbformat_minor": 5
}
